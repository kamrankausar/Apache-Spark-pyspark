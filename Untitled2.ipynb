{
 "cells": [
  {
   "cell_type": "code",
   "execution_count": 1,
   "metadata": {
    "collapsed": false
   },
   "outputs": [
    {
     "data": {
      "text/plain": [
       "<pyspark.context.SparkContext at 0x7f947c614390>"
      ]
     },
     "execution_count": 1,
     "metadata": {},
     "output_type": "execute_result"
    }
   ],
   "source": [
    "sc"
   ]
  },
  {
   "cell_type": "code",
   "execution_count": 2,
   "metadata": {
    "collapsed": true
   },
   "outputs": [],
   "source": [
    "import os\n"
   ]
  },
  {
   "cell_type": "code",
   "execution_count": 3,
   "metadata": {
    "collapsed": false
   },
   "outputs": [
    {
     "data": {
      "text/plain": [
       "'/home/genius'"
      ]
     },
     "execution_count": 3,
     "metadata": {},
     "output_type": "execute_result"
    }
   ],
   "source": [
    "os.getcwd()"
   ]
  },
  {
   "cell_type": "code",
   "execution_count": 4,
   "metadata": {
    "collapsed": false
   },
   "outputs": [
    {
     "data": {
      "text/plain": [
       "['.dbus',\n",
       " '.ICEauthority',\n",
       " 'metastore_db',\n",
       " 'Vuze Downloads',\n",
       " '.gconf',\n",
       " 'Untitled1.ipynb',\n",
       " 'Videos',\n",
       " 'Templates',\n",
       " '.face',\n",
       " '.spark_history',\n",
       " '.python_history',\n",
       " '.swt',\n",
       " '.adobe',\n",
       " '.atanks',\n",
       " 'derby.log',\n",
       " 'Untitled.ipynb',\n",
       " '.azureus',\n",
       " '.gftp',\n",
       " '.gnome',\n",
       " 'output.pdf',\n",
       " 'Pictures',\n",
       " 'Documents',\n",
       " '.hardinfo',\n",
       " '.xsession-errors.old',\n",
       " '.nano',\n",
       " 'Downloads',\n",
       " '.atom',\n",
       " '.dmrc',\n",
       " '.gphoto',\n",
       " '.putty',\n",
       " '.ssh',\n",
       " '.viminfo',\n",
       " '.profile',\n",
       " 'Music',\n",
       " '.gtk-bookmarks',\n",
       " '.mozilla',\n",
       " '.jupyter',\n",
       " '.audacity-data',\n",
       " '.cache',\n",
       " '.themes',\n",
       " '.config',\n",
       " 'Desktop',\n",
       " '.sudo_as_admin_successful',\n",
       " '.bash_history',\n",
       " '.local',\n",
       " 'TTC - English Grammar Boot Camp.torrent',\n",
       " 'Uber.csv',\n",
       " '.bashrc',\n",
       " '.Xauthority',\n",
       " 'user_promt_avg.py',\n",
       " 'Data_All',\n",
       " '.macromedia',\n",
       " '.ipython',\n",
       " '.gksu.lock',\n",
       " 'test_file.txt',\n",
       " '.gnome2',\n",
       " '.gnome2_private',\n",
       " '.tor-browser-en',\n",
       " 'Application',\n",
       " 'Public',\n",
       " '.bash_logout',\n",
       " '.thunderbird',\n",
       " '.gephi',\n",
       " '.pki',\n",
       " 'Untitled2.ipynb',\n",
       " '.icons',\n",
       " '.continuum',\n",
       " 'Python_Test',\n",
       " '.xsession-errors',\n",
       " '.ipynb_checkpoints',\n",
       " 'Baby_Names.csv',\n",
       " '.idlerc']"
      ]
     },
     "execution_count": 4,
     "metadata": {},
     "output_type": "execute_result"
    }
   ],
   "source": [
    "os.listdir()"
   ]
  },
  {
   "cell_type": "code",
   "execution_count": 5,
   "metadata": {
    "collapsed": true
   },
   "outputs": [],
   "source": [
    "ut = sc.textFile(\"Uber.csv\")"
   ]
  },
  {
   "cell_type": "code",
   "execution_count": 6,
   "metadata": {
    "collapsed": false
   },
   "outputs": [
    {
     "data": {
      "text/plain": [
       "355"
      ]
     },
     "execution_count": 6,
     "metadata": {},
     "output_type": "execute_result"
    }
   ],
   "source": [
    "ut.count()"
   ]
  },
  {
   "cell_type": "code",
   "execution_count": null,
   "metadata": {
    "collapsed": true
   },
   "outputs": [],
   "source": []
  }
 ],
 "metadata": {
  "anaconda-cloud": {},
  "kernelspec": {
   "display_name": "Python [default]",
   "language": "python",
   "name": "python3"
  },
  "language_info": {
   "codemirror_mode": {
    "name": "ipython",
    "version": 3
   },
   "file_extension": ".py",
   "mimetype": "text/x-python",
   "name": "python",
   "nbconvert_exporter": "python",
   "pygments_lexer": "ipython3",
   "version": "3.5.2"
  }
 },
 "nbformat": 4,
 "nbformat_minor": 1
}
