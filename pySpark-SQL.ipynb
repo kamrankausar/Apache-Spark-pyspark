{
 "cells": [
  {
   "cell_type": "code",
   "execution_count": 8,
   "metadata": {
    "collapsed": false
   },
   "outputs": [
    {
     "data": {
      "text/plain": [
       "<pyspark.context.SparkContext at 0x7f75b52f3080>"
      ]
     },
     "execution_count": 8,
     "metadata": {},
     "output_type": "execute_result"
    }
   ],
   "source": [
    "#Testing sparkContext 1 .. 2.. 3..\n",
    "sc"
   ]
  },
  {
   "cell_type": "code",
   "execution_count": 13,
   "metadata": {
    "collapsed": false
   },
   "outputs": [
    {
     "data": {
      "text/plain": [
       "'1.6.0'"
      ]
     },
     "execution_count": 13,
     "metadata": {},
     "output_type": "execute_result"
    }
   ],
   "source": [
    "sc.version"
   ]
  },
  {
   "cell_type": "code",
   "execution_count": 16,
   "metadata": {
    "collapsed": false
   },
   "outputs": [
    {
     "data": {
      "text/plain": [
       "<bound method SQLContext.sql of <pyspark.sql.context.HiveContext object at 0x7f75bb53acf8>>"
      ]
     },
     "execution_count": 16,
     "metadata": {},
     "output_type": "execute_result"
    }
   ],
   "source": [
    "#Testing sqlContext 1...2....3...\n",
    "sqlContext.sql"
   ]
  },
  {
   "cell_type": "code",
   "execution_count": 18,
   "metadata": {
    "collapsed": false
   },
   "outputs": [],
   "source": [
    "#Load the data and store in new spark dataFrame 'df'\n",
    "uberDataFrame =sqlContext.read.format(\"com.databricks.spark.csv\").options(header='true',inferschema='true').load(\"Uber-Jan-Feb-FOIL.csv\")"
   ]
  },
  {
   "cell_type": "code",
   "execution_count": 19,
   "metadata": {
    "collapsed": false
   },
   "outputs": [
    {
     "data": {
      "text/plain": [
       "pyspark.sql.dataframe.DataFrame"
      ]
     },
     "execution_count": 19,
     "metadata": {},
     "output_type": "execute_result"
    }
   ],
   "source": [
    "#New type of dataFrame\n",
    "type(uberDataFrame)"
   ]
  },
  {
   "cell_type": "code",
   "execution_count": 29,
   "metadata": {
    "collapsed": false
   },
   "outputs": [
    {
     "data": {
      "text/plain": [
       "Row(dispatching_base_number='B02512', date='1/1/2015', active_vehicles=190, trips=1132)"
      ]
     },
     "execution_count": 29,
     "metadata": {},
     "output_type": "execute_result"
    }
   ],
   "source": [
    "uberDataFrame.first()"
   ]
  },
  {
   "cell_type": "code",
   "execution_count": 22,
   "metadata": {
    "collapsed": false
   },
   "outputs": [],
   "source": [
    "#Convert whole data of Uber as Table\n",
    "uberDataFrame.registerTempTable('uber')"
   ]
  },
  {
   "cell_type": "code",
   "execution_count": 28,
   "metadata": {
    "collapsed": false
   },
   "outputs": [],
   "source": [
    "#Some Queries"
   ]
  },
  {
   "cell_type": "code",
   "execution_count": 35,
   "metadata": {
    "collapsed": false
   },
   "outputs": [],
   "source": [
    "#Display all Distinct Bases\n",
    "unique_bases = sqlContext.sql(\"select distinct dispatching_base_number from uber\")"
   ]
  },
  {
   "cell_type": "code",
   "execution_count": 36,
   "metadata": {
    "collapsed": false
   },
   "outputs": [
    {
     "data": {
      "text/plain": [
       "pyspark.sql.dataframe.DataFrame"
      ]
     },
     "execution_count": 36,
     "metadata": {},
     "output_type": "execute_result"
    }
   ],
   "source": [
    "type(unique_bases)"
   ]
  },
  {
   "cell_type": "code",
   "execution_count": 37,
   "metadata": {
    "collapsed": false
   },
   "outputs": [
    {
     "data": {
      "text/plain": [
       "[Row(dispatching_base_number='B02598'),\n",
       " Row(dispatching_base_number='B02764'),\n",
       " Row(dispatching_base_number='B02765'),\n",
       " Row(dispatching_base_number='B02617'),\n",
       " Row(dispatching_base_number='B02682'),\n",
       " Row(dispatching_base_number='B02512')]"
      ]
     },
     "execution_count": 37,
     "metadata": {},
     "output_type": "execute_result"
    }
   ],
   "source": [
    "unique_bases.collect()"
   ]
  },
  {
   "cell_type": "code",
   "execution_count": 38,
   "metadata": {
    "collapsed": false
   },
   "outputs": [
    {
     "name": "stdout",
     "output_type": "stream",
     "text": [
      "Row(dispatching_base_number='B02598')\n",
      "Row(dispatching_base_number='B02764')\n",
      "Row(dispatching_base_number='B02765')\n",
      "Row(dispatching_base_number='B02617')\n",
      "Row(dispatching_base_number='B02682')\n",
      "Row(dispatching_base_number='B02512')\n"
     ]
    }
   ],
   "source": [
    "#other way to display\n",
    "for row in unique_bases.collect(): print(row)"
   ]
  },
  {
   "cell_type": "code",
   "execution_count": 41,
   "metadata": {
    "collapsed": false
   },
   "outputs": [
    {
     "name": "stdout",
     "output_type": "stream",
     "text": [
      "root\n",
      " |-- dispatching_base_number: string (nullable = true)\n",
      " |-- date: string (nullable = true)\n",
      " |-- active_vehicles: integer (nullable = true)\n",
      " |-- trips: integer (nullable = true)\n",
      "\n"
     ]
    }
   ],
   "source": [
    "#Schema of Uber data\n",
    "uberDataFrame.printSchema()"
   ]
  },
  {
   "cell_type": "code",
   "execution_count": 59,
   "metadata": {
    "collapsed": false
   },
   "outputs": [
    {
     "name": "stdout",
     "output_type": "stream",
     "text": [
      "+-----------------------+-----------+\n",
      "|dispatching_base_number|Total_Trips|\n",
      "+-----------------------+-----------+\n",
      "|                 B02764|    1914449|\n",
      "|                 B02617|     725025|\n",
      "|                 B02682|     662509|\n",
      "|                 B02598|     540791|\n",
      "|                 B02765|     193670|\n",
      "|                 B02512|      93786|\n",
      "+-----------------------+-----------+\n",
      "\n"
     ]
    }
   ],
   "source": [
    "#Display distinct Dispatching base number and its total trip. Note the single Quote (`) not (') and double Quotes use \n",
    "#double Quotes until all SQL queries become red\n",
    "sqlContext.sql(\"\"\"select distinct(`dispatching_base_number`), \n",
    "                                sum(`trips`) as Total_Trips from uber group by `dispatching_base_number` \n",
    "                                order by Total_Trips desc\"\"\").show()\n"
   ]
  },
  {
   "cell_type": "code",
   "execution_count": 63,
   "metadata": {
    "collapsed": false
   },
   "outputs": [
    {
     "name": "stdout",
     "output_type": "stream",
     "text": [
      "+---------+-----------+\n",
      "|     date|Total_Trips|\n",
      "+---------+-----------+\n",
      "|2/20/2015|     100915|\n",
      "|2/14/2015|     100345|\n",
      "|2/21/2015|      98380|\n",
      "|2/13/2015|      98024|\n",
      "|1/31/2015|      92257|\n",
      "+---------+-----------+\n",
      "\n"
     ]
    }
   ],
   "source": [
    "#Display total trips based on date.\n",
    "sqlContext.sql(\"\"\"select distinct (`date`),\n",
    "                sum(`trips`) as Total_Trips from uber\n",
    "                group by `date`\n",
    "                order by Total_Trips desc limit 5\"\"\").show()"
   ]
  }
 ],
 "metadata": {
  "anaconda-cloud": {},
  "kernelspec": {
   "display_name": "Python [default]",
   "language": "python",
   "name": "python3"
  },
  "language_info": {
   "codemirror_mode": {
    "name": "ipython",
    "version": 3
   },
   "file_extension": ".py",
   "mimetype": "text/x-python",
   "name": "python",
   "nbconvert_exporter": "python",
   "pygments_lexer": "ipython3",
   "version": "3.5.2"
  }
 },
 "nbformat": 4,
 "nbformat_minor": 1
}
