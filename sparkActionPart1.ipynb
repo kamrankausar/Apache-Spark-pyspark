{
 "cells": [
  {
   "cell_type": "code",
   "execution_count": 13,
   "metadata": {
    "collapsed": true
   },
   "outputs": [],
   "source": [
    "#Create own Rdd i.e sparkImpact\n",
    "sparkImpact = sc.parallelize([\"Spark\",\"is\",\"one\",\"of\",\"the\",\"most\",\"active\",\"open\",\"source\",\"big\",\"data\",\"projects.\"])"
   ]
  },
  {
   "cell_type": "code",
   "execution_count": 14,
   "metadata": {
    "collapsed": false
   },
   "outputs": [
    {
     "name": "stdout",
     "output_type": "stream",
     "text": [
      "Sparkisoneofthemostactiveopensourcebigdataprojects.\n"
     ]
    }
   ],
   "source": [
    "#Add one element to one another we use reduce()\n",
    "print(sparkImpact.reduce(lambda t1,t2: t1 + t2))"
   ]
  },
  {
   "cell_type": "code",
   "execution_count": 15,
   "metadata": {
    "collapsed": false
   },
   "outputs": [
    {
     "data": {
      "text/plain": [
       "[['Spark', 5],\n",
       " ['is', 2],\n",
       " ['one', 3],\n",
       " ['of', 2],\n",
       " ['the', 3],\n",
       " ['most', 4],\n",
       " ['active', 6],\n",
       " ['open', 4],\n",
       " ['source', 6],\n",
       " ['big', 3],\n",
       " ['data', 4],\n",
       " ['projects.', 9]]"
      ]
     },
     "execution_count": 15,
     "metadata": {},
     "output_type": "execute_result"
    }
   ],
   "source": [
    "#Display the length of each word\n",
    "sparkImpact.map(lambda l: [l,len(l)]).collect()"
   ]
  },
  {
   "cell_type": "code",
   "execution_count": 21,
   "metadata": {
    "collapsed": true
   },
   "outputs": [],
   "source": [
    "wordLen = sparkImpact.map(lambda word:[word,len(word)])"
   ]
  },
  {
   "cell_type": "code",
   "execution_count": 22,
   "metadata": {
    "collapsed": false
   },
   "outputs": [
    {
     "data": {
      "text/plain": [
       "[['Spark', 5],\n",
       " ['is', 2],\n",
       " ['one', 3],\n",
       " ['of', 2],\n",
       " ['the', 3],\n",
       " ['most', 4],\n",
       " ['active', 6],\n",
       " ['open', 4],\n",
       " ['source', 6],\n",
       " ['big', 3],\n",
       " ['data', 4],\n",
       " ['projects.', 9]]"
      ]
     },
     "execution_count": 22,
     "metadata": {},
     "output_type": "execute_result"
    }
   ],
   "source": [
    "wordLen.collect()"
   ]
  },
  {
   "cell_type": "code",
   "execution_count": 29,
   "metadata": {
    "collapsed": false
   },
   "outputs": [
    {
     "data": {
      "text/plain": [
       "51"
      ]
     },
     "execution_count": 29,
     "metadata": {},
     "output_type": "execute_result"
    }
   ],
   "source": [
    "#Flat result & pull out second element and it together\n",
    "wordLen.flatMap(lambda s: [s[1]]).reduce(lambda t1,t2: t1 + t2)"
   ]
  },
  {
   "cell_type": "code",
   "execution_count": 33,
   "metadata": {
    "collapsed": false
   },
   "outputs": [
    {
     "data": {
      "text/plain": [
       "['open', 'one', 'source']"
      ]
     },
     "execution_count": 33,
     "metadata": {},
     "output_type": "execute_result"
    }
   ],
   "source": [
    "#To Display element in random order \n",
    "sparkImpact.takeSample(True,3)"
   ]
  },
  {
   "cell_type": "code",
   "execution_count": 34,
   "metadata": {
    "collapsed": false
   },
   "outputs": [
    {
     "data": {
      "text/plain": [
       "['Spark', 'source', 'is']"
      ]
     },
     "execution_count": 34,
     "metadata": {},
     "output_type": "execute_result"
    }
   ],
   "source": [
    "sparkImpact.takeSample(True,3)"
   ]
  },
  {
   "cell_type": "code",
   "execution_count": 38,
   "metadata": {
    "collapsed": false
   },
   "outputs": [
    {
     "data": {
      "text/plain": [
       "dict_items([('most', 1), ('big', 1), ('Spark', 1), ('is', 1), ('data', 1), ('active', 1), ('the', 1), ('of', 1), ('projects.', 1), ('source', 1), ('open', 1), ('one', 1)])"
      ]
     },
     "execution_count": 38,
     "metadata": {},
     "output_type": "execute_result"
    }
   ],
   "source": [
    "#CountByKey(),Count the frequencies of each word\n",
    "sparkImpact.map(lambda k:(k,1)).countByKey().items()"
   ]
  },
  {
   "cell_type": "code",
   "execution_count": 40,
   "metadata": {
    "collapsed": false
   },
   "outputs": [],
   "source": [
    "#On other data set\n",
    "names = sc.parallelize((\"spark\",\"open\",\"spark\",\"open\",\"software\"))"
   ]
  },
  {
   "cell_type": "code",
   "execution_count": 43,
   "metadata": {
    "collapsed": false
   },
   "outputs": [
    {
     "data": {
      "text/plain": [
       "dict_items([('spark', 2), ('software', 1), ('open', 2)])"
      ]
     },
     "execution_count": 43,
     "metadata": {},
     "output_type": "execute_result"
    }
   ],
   "source": [
    "names.map(lambda k: (k,1)).countByKey().items()"
   ]
  },
  {
   "cell_type": "code",
   "execution_count": 44,
   "metadata": {
    "collapsed": true
   },
   "outputs": [],
   "source": [
    "#Save Action output as Text File\n",
    "names.saveAsTextFile(\"names.txt\")"
   ]
  }
 ],
 "metadata": {
  "anaconda-cloud": {},
  "kernelspec": {
   "display_name": "Python [default]",
   "language": "python",
   "name": "python3"
  },
  "language_info": {
   "codemirror_mode": {
    "name": "ipython",
    "version": 3
   },
   "file_extension": ".py",
   "mimetype": "text/x-python",
   "name": "python",
   "nbconvert_exporter": "python",
   "pygments_lexer": "ipython3",
   "version": "3.5.2"
  }
 },
 "nbformat": 4,
 "nbformat_minor": 1
}
